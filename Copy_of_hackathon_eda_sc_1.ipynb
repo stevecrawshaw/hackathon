{
  "cells": [
    {
      "cell_type": "markdown",
      "metadata": {
        "id": "view-in-github",
        "colab_type": "text"
      },
      "source": [
        "<a href=\"https://colab.research.google.com/github/stevecrawshaw/hackathon/blob/main/Copy_of_hackathon_eda_sc_1.ipynb\" target=\"_parent\"><img src=\"https://colab.research.google.com/assets/colab-badge.svg\" alt=\"Open In Colab\"/></a>"
      ]
    },
    {
      "cell_type": "code",
      "source": [
        " # !pip install --upgrade geopandas pyshp shapely descartes"
      ],
      "metadata": {
        "id": "1DDnM9vkcQId"
      },
      "id": "1DDnM9vkcQId",
      "execution_count": null,
      "outputs": []
    },
    {
      "cell_type": "code",
      "source": [
        " # !pip install --upgrade pandas_profiling\n"
      ],
      "metadata": {
        "id": "4_hZo4yBeD_r"
      },
      "id": "4_hZo4yBeD_r",
      "execution_count": null,
      "outputs": []
    },
    {
      "cell_type": "code",
      "source": [
        " # !pip install --upgrade geoplot"
      ],
      "metadata": {
        "id": "BFQ8HQKIeEbq"
      },
      "id": "BFQ8HQKIeEbq",
      "execution_count": null,
      "outputs": []
    },
    {
      "cell_type": "code",
      "source": [],
      "metadata": {
        "id": "GFp97FFzeEzl"
      },
      "id": "GFp97FFzeEzl",
      "execution_count": null,
      "outputs": []
    },
    {
      "cell_type": "code",
      "execution_count": null,
      "id": "4ee6226e-ce4a-4eef-a447-bffbe57e0543",
      "metadata": {
        "id": "4ee6226e-ce4a-4eef-a447-bffbe57e0543"
      },
      "outputs": [],
      "source": [
        "import pandas as pd\n",
        "import numpy as np\n",
        "import geopandas as gpd\n",
        "import geoplot as gp\n",
        "from pandas_profiling import ProfileReport # only works on UBUNTU!\n",
        "import matplotlib.pyplot as plt\n",
        "%matplotlib inline"
      ]
    },
    {
      "cell_type": "markdown",
      "id": "4a69781f-4ae1-4048-ba97-57abf6bd0c6c",
      "metadata": {
        "id": "4a69781f-4ae1-4048-ba97-57abf6bd0c6c"
      },
      "source": [
        "### Health Data\n",
        "Looks like this is a DF of health establishments detailing the facilities available and some location data."
      ]
    },
    {
      "cell_type": "code",
      "source": [
        "from google.colab import drive\n",
        "drive.mount('/content/drive')"
      ],
      "metadata": {
        "id": "3ykiEZWaiJKW",
        "colab": {
          "base_uri": "https://localhost:8080/"
        },
        "outputId": "a41e378c-2f63-41d2-9064-bbd15acaa561"
      },
      "id": "3ykiEZWaiJKW",
      "execution_count": null,
      "outputs": [
        {
          "output_type": "stream",
          "name": "stdout",
          "text": [
            "Drive already mounted at /content/drive; to attempt to forcibly remount, call drive.mount(\"/content/drive\", force_remount=True).\n"
          ]
        }
      ]
    },
    {
      "cell_type": "code",
      "source": [
        "# !ls -l"
      ],
      "metadata": {
        "id": "XAadI6naie05"
      },
      "id": "XAadI6naie05",
      "execution_count": 45,
      "outputs": []
    },
    {
      "cell_type": "code",
      "execution_count": null,
      "id": "d75a4c06-9fe9-46e2-9d3b-897985a57847",
      "metadata": {
        "id": "d75a4c06-9fe9-46e2-9d3b-897985a57847",
        "colab": {
          "base_uri": "https://localhost:8080/",
          "height": 318
        },
        "outputId": "24f2a2de-fe55-4dc3-cc3a-10ebe12e1c56"
      },
      "outputs": [
        {
          "output_type": "error",
          "ename": "FileNotFoundError",
          "evalue": "ignored",
          "traceback": [
            "\u001b[0;31m---------------------------------------------------------------------------\u001b[0m",
            "\u001b[0;31mFileNotFoundError\u001b[0m                         Traceback (most recent call last)",
            "\u001b[0;32m<ipython-input-48-234b7adc986a>\u001b[0m in \u001b[0;36m<module>\u001b[0;34m\u001b[0m\n\u001b[0;32m----> 1\u001b[0;31m \u001b[0mhealth_df_raw\u001b[0m \u001b[0;34m=\u001b[0m \u001b[0mpd\u001b[0m\u001b[0;34m.\u001b[0m\u001b[0mread_csv\u001b[0m\u001b[0;34m(\u001b[0m\u001b[0;34m'health.csv'\u001b[0m\u001b[0;34m,\u001b[0m \u001b[0mindex_col\u001b[0m \u001b[0;34m=\u001b[0m \u001b[0;34m'facility_name'\u001b[0m\u001b[0;34m)\u001b[0m\u001b[0;34m\u001b[0m\u001b[0;34m\u001b[0m\u001b[0m\n\u001b[0m",
            "\u001b[0;32m/usr/local/lib/python3.8/dist-packages/pandas/util/_decorators.py\u001b[0m in \u001b[0;36mwrapper\u001b[0;34m(*args, **kwargs)\u001b[0m\n\u001b[1;32m    309\u001b[0m                     \u001b[0mstacklevel\u001b[0m\u001b[0;34m=\u001b[0m\u001b[0mstacklevel\u001b[0m\u001b[0;34m,\u001b[0m\u001b[0;34m\u001b[0m\u001b[0;34m\u001b[0m\u001b[0m\n\u001b[1;32m    310\u001b[0m                 )\n\u001b[0;32m--> 311\u001b[0;31m             \u001b[0;32mreturn\u001b[0m \u001b[0mfunc\u001b[0m\u001b[0;34m(\u001b[0m\u001b[0;34m*\u001b[0m\u001b[0margs\u001b[0m\u001b[0;34m,\u001b[0m \u001b[0;34m**\u001b[0m\u001b[0mkwargs\u001b[0m\u001b[0;34m)\u001b[0m\u001b[0;34m\u001b[0m\u001b[0;34m\u001b[0m\u001b[0m\n\u001b[0m\u001b[1;32m    312\u001b[0m \u001b[0;34m\u001b[0m\u001b[0m\n\u001b[1;32m    313\u001b[0m         \u001b[0;32mreturn\u001b[0m \u001b[0mwrapper\u001b[0m\u001b[0;34m\u001b[0m\u001b[0;34m\u001b[0m\u001b[0m\n",
            "\u001b[0;32m/usr/local/lib/python3.8/dist-packages/pandas/io/parsers/readers.py\u001b[0m in \u001b[0;36mread_csv\u001b[0;34m(filepath_or_buffer, sep, delimiter, header, names, index_col, usecols, squeeze, prefix, mangle_dupe_cols, dtype, engine, converters, true_values, false_values, skipinitialspace, skiprows, skipfooter, nrows, na_values, keep_default_na, na_filter, verbose, skip_blank_lines, parse_dates, infer_datetime_format, keep_date_col, date_parser, dayfirst, cache_dates, iterator, chunksize, compression, thousands, decimal, lineterminator, quotechar, quoting, doublequote, escapechar, comment, encoding, encoding_errors, dialect, error_bad_lines, warn_bad_lines, on_bad_lines, delim_whitespace, low_memory, memory_map, float_precision, storage_options)\u001b[0m\n\u001b[1;32m    584\u001b[0m     \u001b[0mkwds\u001b[0m\u001b[0;34m.\u001b[0m\u001b[0mupdate\u001b[0m\u001b[0;34m(\u001b[0m\u001b[0mkwds_defaults\u001b[0m\u001b[0;34m)\u001b[0m\u001b[0;34m\u001b[0m\u001b[0;34m\u001b[0m\u001b[0m\n\u001b[1;32m    585\u001b[0m \u001b[0;34m\u001b[0m\u001b[0m\n\u001b[0;32m--> 586\u001b[0;31m     \u001b[0;32mreturn\u001b[0m \u001b[0m_read\u001b[0m\u001b[0;34m(\u001b[0m\u001b[0mfilepath_or_buffer\u001b[0m\u001b[0;34m,\u001b[0m \u001b[0mkwds\u001b[0m\u001b[0;34m)\u001b[0m\u001b[0;34m\u001b[0m\u001b[0;34m\u001b[0m\u001b[0m\n\u001b[0m\u001b[1;32m    587\u001b[0m \u001b[0;34m\u001b[0m\u001b[0m\n\u001b[1;32m    588\u001b[0m \u001b[0;34m\u001b[0m\u001b[0m\n",
            "\u001b[0;32m/usr/local/lib/python3.8/dist-packages/pandas/io/parsers/readers.py\u001b[0m in \u001b[0;36m_read\u001b[0;34m(filepath_or_buffer, kwds)\u001b[0m\n\u001b[1;32m    480\u001b[0m \u001b[0;34m\u001b[0m\u001b[0m\n\u001b[1;32m    481\u001b[0m     \u001b[0;31m# Create the parser.\u001b[0m\u001b[0;34m\u001b[0m\u001b[0;34m\u001b[0m\u001b[0;34m\u001b[0m\u001b[0m\n\u001b[0;32m--> 482\u001b[0;31m     \u001b[0mparser\u001b[0m \u001b[0;34m=\u001b[0m \u001b[0mTextFileReader\u001b[0m\u001b[0;34m(\u001b[0m\u001b[0mfilepath_or_buffer\u001b[0m\u001b[0;34m,\u001b[0m \u001b[0;34m**\u001b[0m\u001b[0mkwds\u001b[0m\u001b[0;34m)\u001b[0m\u001b[0;34m\u001b[0m\u001b[0;34m\u001b[0m\u001b[0m\n\u001b[0m\u001b[1;32m    483\u001b[0m \u001b[0;34m\u001b[0m\u001b[0m\n\u001b[1;32m    484\u001b[0m     \u001b[0;32mif\u001b[0m \u001b[0mchunksize\u001b[0m \u001b[0;32mor\u001b[0m \u001b[0miterator\u001b[0m\u001b[0;34m:\u001b[0m\u001b[0;34m\u001b[0m\u001b[0;34m\u001b[0m\u001b[0m\n",
            "\u001b[0;32m/usr/local/lib/python3.8/dist-packages/pandas/io/parsers/readers.py\u001b[0m in \u001b[0;36m__init__\u001b[0;34m(self, f, engine, **kwds)\u001b[0m\n\u001b[1;32m    809\u001b[0m             \u001b[0mself\u001b[0m\u001b[0;34m.\u001b[0m\u001b[0moptions\u001b[0m\u001b[0;34m[\u001b[0m\u001b[0;34m\"has_index_names\"\u001b[0m\u001b[0;34m]\u001b[0m \u001b[0;34m=\u001b[0m \u001b[0mkwds\u001b[0m\u001b[0;34m[\u001b[0m\u001b[0;34m\"has_index_names\"\u001b[0m\u001b[0;34m]\u001b[0m\u001b[0;34m\u001b[0m\u001b[0;34m\u001b[0m\u001b[0m\n\u001b[1;32m    810\u001b[0m \u001b[0;34m\u001b[0m\u001b[0m\n\u001b[0;32m--> 811\u001b[0;31m         \u001b[0mself\u001b[0m\u001b[0;34m.\u001b[0m\u001b[0m_engine\u001b[0m \u001b[0;34m=\u001b[0m \u001b[0mself\u001b[0m\u001b[0;34m.\u001b[0m\u001b[0m_make_engine\u001b[0m\u001b[0;34m(\u001b[0m\u001b[0mself\u001b[0m\u001b[0;34m.\u001b[0m\u001b[0mengine\u001b[0m\u001b[0;34m)\u001b[0m\u001b[0;34m\u001b[0m\u001b[0;34m\u001b[0m\u001b[0m\n\u001b[0m\u001b[1;32m    812\u001b[0m \u001b[0;34m\u001b[0m\u001b[0m\n\u001b[1;32m    813\u001b[0m     \u001b[0;32mdef\u001b[0m \u001b[0mclose\u001b[0m\u001b[0;34m(\u001b[0m\u001b[0mself\u001b[0m\u001b[0;34m)\u001b[0m\u001b[0;34m:\u001b[0m\u001b[0;34m\u001b[0m\u001b[0;34m\u001b[0m\u001b[0m\n",
            "\u001b[0;32m/usr/local/lib/python3.8/dist-packages/pandas/io/parsers/readers.py\u001b[0m in \u001b[0;36m_make_engine\u001b[0;34m(self, engine)\u001b[0m\n\u001b[1;32m   1038\u001b[0m             )\n\u001b[1;32m   1039\u001b[0m         \u001b[0;31m# error: Too many arguments for \"ParserBase\"\u001b[0m\u001b[0;34m\u001b[0m\u001b[0;34m\u001b[0m\u001b[0;34m\u001b[0m\u001b[0m\n\u001b[0;32m-> 1040\u001b[0;31m         \u001b[0;32mreturn\u001b[0m \u001b[0mmapping\u001b[0m\u001b[0;34m[\u001b[0m\u001b[0mengine\u001b[0m\u001b[0;34m]\u001b[0m\u001b[0;34m(\u001b[0m\u001b[0mself\u001b[0m\u001b[0;34m.\u001b[0m\u001b[0mf\u001b[0m\u001b[0;34m,\u001b[0m \u001b[0;34m**\u001b[0m\u001b[0mself\u001b[0m\u001b[0;34m.\u001b[0m\u001b[0moptions\u001b[0m\u001b[0;34m)\u001b[0m  \u001b[0;31m# type: ignore[call-arg]\u001b[0m\u001b[0;34m\u001b[0m\u001b[0;34m\u001b[0m\u001b[0m\n\u001b[0m\u001b[1;32m   1041\u001b[0m \u001b[0;34m\u001b[0m\u001b[0m\n\u001b[1;32m   1042\u001b[0m     \u001b[0;32mdef\u001b[0m \u001b[0m_failover_to_python\u001b[0m\u001b[0;34m(\u001b[0m\u001b[0mself\u001b[0m\u001b[0;34m)\u001b[0m\u001b[0;34m:\u001b[0m\u001b[0;34m\u001b[0m\u001b[0;34m\u001b[0m\u001b[0m\n",
            "\u001b[0;32m/usr/local/lib/python3.8/dist-packages/pandas/io/parsers/c_parser_wrapper.py\u001b[0m in \u001b[0;36m__init__\u001b[0;34m(self, src, **kwds)\u001b[0m\n\u001b[1;32m     49\u001b[0m \u001b[0;34m\u001b[0m\u001b[0m\n\u001b[1;32m     50\u001b[0m         \u001b[0;31m# open handles\u001b[0m\u001b[0;34m\u001b[0m\u001b[0;34m\u001b[0m\u001b[0;34m\u001b[0m\u001b[0m\n\u001b[0;32m---> 51\u001b[0;31m         \u001b[0mself\u001b[0m\u001b[0;34m.\u001b[0m\u001b[0m_open_handles\u001b[0m\u001b[0;34m(\u001b[0m\u001b[0msrc\u001b[0m\u001b[0;34m,\u001b[0m \u001b[0mkwds\u001b[0m\u001b[0;34m)\u001b[0m\u001b[0;34m\u001b[0m\u001b[0;34m\u001b[0m\u001b[0m\n\u001b[0m\u001b[1;32m     52\u001b[0m         \u001b[0;32massert\u001b[0m \u001b[0mself\u001b[0m\u001b[0;34m.\u001b[0m\u001b[0mhandles\u001b[0m \u001b[0;32mis\u001b[0m \u001b[0;32mnot\u001b[0m \u001b[0;32mNone\u001b[0m\u001b[0;34m\u001b[0m\u001b[0;34m\u001b[0m\u001b[0m\n\u001b[1;32m     53\u001b[0m \u001b[0;34m\u001b[0m\u001b[0m\n",
            "\u001b[0;32m/usr/local/lib/python3.8/dist-packages/pandas/io/parsers/base_parser.py\u001b[0m in \u001b[0;36m_open_handles\u001b[0;34m(self, src, kwds)\u001b[0m\n\u001b[1;32m    220\u001b[0m         \u001b[0mLet\u001b[0m \u001b[0mthe\u001b[0m \u001b[0mreaders\u001b[0m \u001b[0mopen\u001b[0m \u001b[0mIOHandles\u001b[0m \u001b[0mafter\u001b[0m \u001b[0mthey\u001b[0m \u001b[0mare\u001b[0m \u001b[0mdone\u001b[0m \u001b[0;32mwith\u001b[0m \u001b[0mtheir\u001b[0m \u001b[0mpotential\u001b[0m \u001b[0mraises\u001b[0m\u001b[0;34m.\u001b[0m\u001b[0;34m\u001b[0m\u001b[0;34m\u001b[0m\u001b[0m\n\u001b[1;32m    221\u001b[0m         \"\"\"\n\u001b[0;32m--> 222\u001b[0;31m         self.handles = get_handle(\n\u001b[0m\u001b[1;32m    223\u001b[0m             \u001b[0msrc\u001b[0m\u001b[0;34m,\u001b[0m\u001b[0;34m\u001b[0m\u001b[0;34m\u001b[0m\u001b[0m\n\u001b[1;32m    224\u001b[0m             \u001b[0;34m\"r\"\u001b[0m\u001b[0;34m,\u001b[0m\u001b[0;34m\u001b[0m\u001b[0;34m\u001b[0m\u001b[0m\n",
            "\u001b[0;32m/usr/local/lib/python3.8/dist-packages/pandas/io/common.py\u001b[0m in \u001b[0;36mget_handle\u001b[0;34m(path_or_buf, mode, encoding, compression, memory_map, is_text, errors, storage_options)\u001b[0m\n\u001b[1;32m    700\u001b[0m         \u001b[0;32mif\u001b[0m \u001b[0mioargs\u001b[0m\u001b[0;34m.\u001b[0m\u001b[0mencoding\u001b[0m \u001b[0;32mand\u001b[0m \u001b[0;34m\"b\"\u001b[0m \u001b[0;32mnot\u001b[0m \u001b[0;32min\u001b[0m \u001b[0mioargs\u001b[0m\u001b[0;34m.\u001b[0m\u001b[0mmode\u001b[0m\u001b[0;34m:\u001b[0m\u001b[0;34m\u001b[0m\u001b[0;34m\u001b[0m\u001b[0m\n\u001b[1;32m    701\u001b[0m             \u001b[0;31m# Encoding\u001b[0m\u001b[0;34m\u001b[0m\u001b[0;34m\u001b[0m\u001b[0;34m\u001b[0m\u001b[0m\n\u001b[0;32m--> 702\u001b[0;31m             handle = open(\n\u001b[0m\u001b[1;32m    703\u001b[0m                 \u001b[0mhandle\u001b[0m\u001b[0;34m,\u001b[0m\u001b[0;34m\u001b[0m\u001b[0;34m\u001b[0m\u001b[0m\n\u001b[1;32m    704\u001b[0m                 \u001b[0mioargs\u001b[0m\u001b[0;34m.\u001b[0m\u001b[0mmode\u001b[0m\u001b[0;34m,\u001b[0m\u001b[0;34m\u001b[0m\u001b[0;34m\u001b[0m\u001b[0m\n",
            "\u001b[0;31mFileNotFoundError\u001b[0m: [Errno 2] No such file or directory: 'health.csv'"
          ]
        }
      ],
      "source": [
        "health_df_raw = pd.read_csv('health.csv', index_col = 'facility_name')"
      ]
    },
    {
      "cell_type": "code",
      "source": [
        "# health_df_raw.head()"
      ],
      "metadata": {
        "id": "kiaV_ZZxilDS"
      },
      "id": "kiaV_ZZxilDS",
      "execution_count": null,
      "outputs": []
    },
    {
      "cell_type": "code",
      "execution_count": null,
      "id": "e52d3657-f10a-4424-8b1f-4c9502ddbfa3",
      "metadata": {
        "id": "e52d3657-f10a-4424-8b1f-4c9502ddbfa3",
        "colab": {
          "base_uri": "https://localhost:8080/",
          "height": 169
        },
        "outputId": "ae0cdf0d-991a-486f-d26b-6737d7a10c8d"
      },
      "outputs": [
        {
          "output_type": "error",
          "ename": "NameError",
          "evalue": "ignored",
          "traceback": [
            "\u001b[0;31m---------------------------------------------------------------------------\u001b[0m",
            "\u001b[0;31mNameError\u001b[0m                                 Traceback (most recent call last)",
            "\u001b[0;32m<ipython-input-50-ae2d82a28bf5>\u001b[0m in \u001b[0;36m<module>\u001b[0;34m\u001b[0m\n\u001b[0;32m----> 1\u001b[0;31m \u001b[0mhealth_profile\u001b[0m \u001b[0;34m=\u001b[0m \u001b[0mProfileReport\u001b[0m\u001b[0;34m(\u001b[0m\u001b[0mhealth_df_raw\u001b[0m\u001b[0;34m,\u001b[0m \u001b[0mtitle\u001b[0m \u001b[0;34m=\u001b[0m \u001b[0;34m\"Health Facility EDA Report\"\u001b[0m\u001b[0;34m)\u001b[0m \u001b[0;31m# some sort of pandas incompatability error (works on ubuntu)\u001b[0m\u001b[0;34m\u001b[0m\u001b[0;34m\u001b[0m\u001b[0m\n\u001b[0m",
            "\u001b[0;31mNameError\u001b[0m: name 'health_df_raw' is not defined"
          ]
        }
      ],
      "source": [
        "health_profile = ProfileReport(health_df_raw, title = \"Health Facility EDA Report\") # some sort of pandas incompatability error (works on ubuntu)"
      ]
    },
    {
      "cell_type": "code",
      "execution_count": null,
      "id": "3a255759-1475-470d-a6f3-c7440c769137",
      "metadata": {
        "id": "3a255759-1475-470d-a6f3-c7440c769137"
      },
      "outputs": [],
      "source": [
        "# health_profile"
      ]
    },
    {
      "cell_type": "code",
      "execution_count": null,
      "id": "ed37a0f2-0b1f-4701-a734-64a57ae6aba9",
      "metadata": {
        "id": "ed37a0f2-0b1f-4701-a734-64a57ae6aba9"
      },
      "outputs": [],
      "source": [
        "health_df_raw.head()"
      ]
    },
    {
      "cell_type": "markdown",
      "id": "24faf0f8-5291-462c-b75f-2240c7628495",
      "metadata": {
        "id": "24faf0f8-5291-462c-b75f-2240c7628495"
      },
      "source": [
        "### COVID cases: Dates, locations and patient details for COVID cases\n",
        "dates need parsing"
      ]
    },
    {
      "cell_type": "code",
      "execution_count": null,
      "id": "7b2558d2-a444-47ce-af09-6f31c07ea877",
      "metadata": {
        "id": "7b2558d2-a444-47ce-af09-6f31c07ea877"
      },
      "outputs": [],
      "source": [
        "covid_df_raw = pd.read_csv('https://raw.githubusercontent.com/dsfsi/covid19africa/master/data/line_lists/line-list-nigeria.csv',\n",
        "                          index_col = ['case_id'])"
      ]
    },
    {
      "cell_type": "code",
      "execution_count": null,
      "id": "c16d42c1-9ef6-4695-8e6c-30029f5bf102",
      "metadata": {
        "id": "c16d42c1-9ef6-4695-8e6c-30029f5bf102",
        "outputId": "5bd12954-1ae7-4366-ce5f-12ee9ac158b8",
        "colab": {
          "base_uri": "https://localhost:8080/",
          "height": 343
        }
      },
      "outputs": [
        {
          "output_type": "execute_result",
          "data": {
            "text/plain": [
              "         origin_case_id        date  age  gender   city province/state  \\\n",
              "case_id                                                                  \n",
              "1                   NaN   2/27/2020   44    Male   Ogun           Ogun   \n",
              "2                   NaN  03/09/2020  NaN     NaN   Ogun           Ogun   \n",
              "3                   NaN   3/16/2020   30  Female  Lagos          Lagos   \n",
              "\n",
              "         country     current_status  \\\n",
              "case_id                               \n",
              "1        Nigeria        In recovery   \n",
              "2        Nigeria       In treatment   \n",
              "3        Nigeria  Clinically Stable   \n",
              "\n",
              "                                                    source  \\\n",
              "case_id                                                      \n",
              "1                                              www.bbc.com   \n",
              "2        https://twitter.com/NCDCgov/status/12376418124...   \n",
              "3        https://twitter.com/NCDCgov/status/12398485450...   \n",
              "\n",
              "                   symptoms date_onset_symptoms date_admission_hospital  \\\n",
              "case_id                                                                   \n",
              "1                       NaN                 NaN               2/27/2020   \n",
              "2                       NaN          03/09/2020              03/09/2020   \n",
              "3        Fever, Cold, Cough                 NaN               3/17/2020   \n",
              "\n",
              "        date_confirmation underlying_conditions travel_history_dates  \\\n",
              "case_id                                                                \n",
              "1               27-Feb-20                    No                  NaN   \n",
              "2              03/09/2020                    No                  NaN   \n",
              "3               3/17/2020                   NaN            13-Mar-20   \n",
              "\n",
              "        travel_history_location death_date  \\\n",
              "case_id                                      \n",
              "1                         Italy        NaN   \n",
              "2                           NaN        NaN   \n",
              "3                United Kingdom        NaN   \n",
              "\n",
              "                                      notes_for_discussion Unnamed: 19  \n",
              "case_id                                                                 \n",
              "1                             Patient came in from Italy.          NaN  \n",
              "2                                                      NaN         NaN  \n",
              "3        Patient returned from trip to UK and was in 14...         NaN  "
            ],
            "text/html": [
              "\n",
              "  <div id=\"df-ed909882-3a13-466c-b5ca-d90e80401d5a\">\n",
              "    <div class=\"colab-df-container\">\n",
              "      <div>\n",
              "<style scoped>\n",
              "    .dataframe tbody tr th:only-of-type {\n",
              "        vertical-align: middle;\n",
              "    }\n",
              "\n",
              "    .dataframe tbody tr th {\n",
              "        vertical-align: top;\n",
              "    }\n",
              "\n",
              "    .dataframe thead th {\n",
              "        text-align: right;\n",
              "    }\n",
              "</style>\n",
              "<table border=\"1\" class=\"dataframe\">\n",
              "  <thead>\n",
              "    <tr style=\"text-align: right;\">\n",
              "      <th></th>\n",
              "      <th>origin_case_id</th>\n",
              "      <th>date</th>\n",
              "      <th>age</th>\n",
              "      <th>gender</th>\n",
              "      <th>city</th>\n",
              "      <th>province/state</th>\n",
              "      <th>country</th>\n",
              "      <th>current_status</th>\n",
              "      <th>source</th>\n",
              "      <th>symptoms</th>\n",
              "      <th>date_onset_symptoms</th>\n",
              "      <th>date_admission_hospital</th>\n",
              "      <th>date_confirmation</th>\n",
              "      <th>underlying_conditions</th>\n",
              "      <th>travel_history_dates</th>\n",
              "      <th>travel_history_location</th>\n",
              "      <th>death_date</th>\n",
              "      <th>notes_for_discussion</th>\n",
              "      <th>Unnamed: 19</th>\n",
              "    </tr>\n",
              "    <tr>\n",
              "      <th>case_id</th>\n",
              "      <th></th>\n",
              "      <th></th>\n",
              "      <th></th>\n",
              "      <th></th>\n",
              "      <th></th>\n",
              "      <th></th>\n",
              "      <th></th>\n",
              "      <th></th>\n",
              "      <th></th>\n",
              "      <th></th>\n",
              "      <th></th>\n",
              "      <th></th>\n",
              "      <th></th>\n",
              "      <th></th>\n",
              "      <th></th>\n",
              "      <th></th>\n",
              "      <th></th>\n",
              "      <th></th>\n",
              "      <th></th>\n",
              "    </tr>\n",
              "  </thead>\n",
              "  <tbody>\n",
              "    <tr>\n",
              "      <th>1</th>\n",
              "      <td>NaN</td>\n",
              "      <td>2/27/2020</td>\n",
              "      <td>44</td>\n",
              "      <td>Male</td>\n",
              "      <td>Ogun</td>\n",
              "      <td>Ogun</td>\n",
              "      <td>Nigeria</td>\n",
              "      <td>In recovery</td>\n",
              "      <td>www.bbc.com</td>\n",
              "      <td>NaN</td>\n",
              "      <td>NaN</td>\n",
              "      <td>2/27/2020</td>\n",
              "      <td>27-Feb-20</td>\n",
              "      <td>No</td>\n",
              "      <td>NaN</td>\n",
              "      <td>Italy</td>\n",
              "      <td>NaN</td>\n",
              "      <td>Patient came in from Italy.</td>\n",
              "      <td>NaN</td>\n",
              "    </tr>\n",
              "    <tr>\n",
              "      <th>2</th>\n",
              "      <td>NaN</td>\n",
              "      <td>03/09/2020</td>\n",
              "      <td>NaN</td>\n",
              "      <td>NaN</td>\n",
              "      <td>Ogun</td>\n",
              "      <td>Ogun</td>\n",
              "      <td>Nigeria</td>\n",
              "      <td>In treatment</td>\n",
              "      <td>https://twitter.com/NCDCgov/status/12376418124...</td>\n",
              "      <td>NaN</td>\n",
              "      <td>03/09/2020</td>\n",
              "      <td>03/09/2020</td>\n",
              "      <td>03/09/2020</td>\n",
              "      <td>No</td>\n",
              "      <td>NaN</td>\n",
              "      <td>NaN</td>\n",
              "      <td>NaN</td>\n",
              "      <td>NaN</td>\n",
              "      <td>NaN</td>\n",
              "    </tr>\n",
              "    <tr>\n",
              "      <th>3</th>\n",
              "      <td>NaN</td>\n",
              "      <td>3/16/2020</td>\n",
              "      <td>30</td>\n",
              "      <td>Female</td>\n",
              "      <td>Lagos</td>\n",
              "      <td>Lagos</td>\n",
              "      <td>Nigeria</td>\n",
              "      <td>Clinically Stable</td>\n",
              "      <td>https://twitter.com/NCDCgov/status/12398485450...</td>\n",
              "      <td>Fever, Cold, Cough</td>\n",
              "      <td>NaN</td>\n",
              "      <td>3/17/2020</td>\n",
              "      <td>3/17/2020</td>\n",
              "      <td>NaN</td>\n",
              "      <td>13-Mar-20</td>\n",
              "      <td>United Kingdom</td>\n",
              "      <td>NaN</td>\n",
              "      <td>Patient returned from trip to UK and was in 14...</td>\n",
              "      <td>NaN</td>\n",
              "    </tr>\n",
              "  </tbody>\n",
              "</table>\n",
              "</div>\n",
              "      <button class=\"colab-df-convert\" onclick=\"convertToInteractive('df-ed909882-3a13-466c-b5ca-d90e80401d5a')\"\n",
              "              title=\"Convert this dataframe to an interactive table.\"\n",
              "              style=\"display:none;\">\n",
              "        \n",
              "  <svg xmlns=\"http://www.w3.org/2000/svg\" height=\"24px\"viewBox=\"0 0 24 24\"\n",
              "       width=\"24px\">\n",
              "    <path d=\"M0 0h24v24H0V0z\" fill=\"none\"/>\n",
              "    <path d=\"M18.56 5.44l.94 2.06.94-2.06 2.06-.94-2.06-.94-.94-2.06-.94 2.06-2.06.94zm-11 1L8.5 8.5l.94-2.06 2.06-.94-2.06-.94L8.5 2.5l-.94 2.06-2.06.94zm10 10l.94 2.06.94-2.06 2.06-.94-2.06-.94-.94-2.06-.94 2.06-2.06.94z\"/><path d=\"M17.41 7.96l-1.37-1.37c-.4-.4-.92-.59-1.43-.59-.52 0-1.04.2-1.43.59L10.3 9.45l-7.72 7.72c-.78.78-.78 2.05 0 2.83L4 21.41c.39.39.9.59 1.41.59.51 0 1.02-.2 1.41-.59l7.78-7.78 2.81-2.81c.8-.78.8-2.07 0-2.86zM5.41 20L4 18.59l7.72-7.72 1.47 1.35L5.41 20z\"/>\n",
              "  </svg>\n",
              "      </button>\n",
              "      \n",
              "  <style>\n",
              "    .colab-df-container {\n",
              "      display:flex;\n",
              "      flex-wrap:wrap;\n",
              "      gap: 12px;\n",
              "    }\n",
              "\n",
              "    .colab-df-convert {\n",
              "      background-color: #E8F0FE;\n",
              "      border: none;\n",
              "      border-radius: 50%;\n",
              "      cursor: pointer;\n",
              "      display: none;\n",
              "      fill: #1967D2;\n",
              "      height: 32px;\n",
              "      padding: 0 0 0 0;\n",
              "      width: 32px;\n",
              "    }\n",
              "\n",
              "    .colab-df-convert:hover {\n",
              "      background-color: #E2EBFA;\n",
              "      box-shadow: 0px 1px 2px rgba(60, 64, 67, 0.3), 0px 1px 3px 1px rgba(60, 64, 67, 0.15);\n",
              "      fill: #174EA6;\n",
              "    }\n",
              "\n",
              "    [theme=dark] .colab-df-convert {\n",
              "      background-color: #3B4455;\n",
              "      fill: #D2E3FC;\n",
              "    }\n",
              "\n",
              "    [theme=dark] .colab-df-convert:hover {\n",
              "      background-color: #434B5C;\n",
              "      box-shadow: 0px 1px 3px 1px rgba(0, 0, 0, 0.15);\n",
              "      filter: drop-shadow(0px 1px 2px rgba(0, 0, 0, 0.3));\n",
              "      fill: #FFFFFF;\n",
              "    }\n",
              "  </style>\n",
              "\n",
              "      <script>\n",
              "        const buttonEl =\n",
              "          document.querySelector('#df-ed909882-3a13-466c-b5ca-d90e80401d5a button.colab-df-convert');\n",
              "        buttonEl.style.display =\n",
              "          google.colab.kernel.accessAllowed ? 'block' : 'none';\n",
              "\n",
              "        async function convertToInteractive(key) {\n",
              "          const element = document.querySelector('#df-ed909882-3a13-466c-b5ca-d90e80401d5a');\n",
              "          const dataTable =\n",
              "            await google.colab.kernel.invokeFunction('convertToInteractive',\n",
              "                                                     [key], {});\n",
              "          if (!dataTable) return;\n",
              "\n",
              "          const docLinkHtml = 'Like what you see? Visit the ' +\n",
              "            '<a target=\"_blank\" href=https://colab.research.google.com/notebooks/data_table.ipynb>data table notebook</a>'\n",
              "            + ' to learn more about interactive tables.';\n",
              "          element.innerHTML = '';\n",
              "          dataTable['output_type'] = 'display_data';\n",
              "          await google.colab.output.renderOutput(dataTable, element);\n",
              "          const docLink = document.createElement('div');\n",
              "          docLink.innerHTML = docLinkHtml;\n",
              "          element.appendChild(docLink);\n",
              "        }\n",
              "      </script>\n",
              "    </div>\n",
              "  </div>\n",
              "  "
            ]
          },
          "metadata": {},
          "execution_count": 53
        }
      ],
      "source": [
        "covid_df_raw.head(3)"
      ]
    },
    {
      "cell_type": "code",
      "execution_count": null,
      "id": "1c533afd-643a-45fd-bcc5-fe5792cd345d",
      "metadata": {
        "id": "1c533afd-643a-45fd-bcc5-fe5792cd345d"
      },
      "outputs": [],
      "source": [
        "covid = covid_df_raw.copy()\n",
        "\n",
        "covid['date'] = pd.to_datetime(covid_df_raw['date'])"
      ]
    },
    {
      "cell_type": "code",
      "execution_count": null,
      "id": "4f135547-67e9-48ad-bd0e-531e6994c94f",
      "metadata": {
        "id": "4f135547-67e9-48ad-bd0e-531e6994c94f"
      },
      "outputs": [],
      "source": [
        "covid.set_index('date', inplace=True)"
      ]
    },
    {
      "cell_type": "code",
      "execution_count": null,
      "id": "8f9595da-0396-4c08-af8f-f6cc217c8c24",
      "metadata": {
        "id": "8f9595da-0396-4c08-af8f-f6cc217c8c24"
      },
      "outputs": [],
      "source": [
        "covid_profile = ProfileReport(covid, title = 'Covid Data Report')"
      ]
    },
    {
      "cell_type": "code",
      "execution_count": null,
      "id": "58339e2b-c84c-42f0-9579-18509271b836",
      "metadata": {
        "id": "58339e2b-c84c-42f0-9579-18509271b836"
      },
      "outputs": [],
      "source": [
        "# covid_profile"
      ]
    },
    {
      "cell_type": "raw",
      "id": "5ad6b4ce-308e-47e7-9357-27158111ccc6",
      "metadata": {
        "id": "5ad6b4ce-308e-47e7-9357-27158111ccc6"
      },
      "source": []
    },
    {
      "cell_type": "code",
      "execution_count": null,
      "id": "ad7e66a7-4a37-4e90-bb37-279b36214862",
      "metadata": {
        "id": "ad7e66a7-4a37-4e90-bb37-279b36214862",
        "outputId": "9ad52d88-9a9a-4432-d197-851191a4f166",
        "colab": {
          "base_uri": "https://localhost:8080/",
          "height": 319
        }
      },
      "outputs": [
        {
          "output_type": "execute_result",
          "data": {
            "text/plain": [
              "Text(0.5, 1.0, 'Cases by Date')"
            ]
          },
          "metadata": {},
          "execution_count": 58
        },
        {
          "output_type": "display_data",
          "data": {
            "text/plain": [
              "<Figure size 432x288 with 1 Axes>"
            ],
            "image/png": "[encoded data removed]"
          },
          "metadata": {
            "needs_background": "light"
          }
        }
      ],
      "source": [
        "ax = covid.groupby('date').count().country.plot();\n",
        "ax.set_title('Cases by Date')"
      ]
    },
    {
      "cell_type": "code",
      "execution_count": null,
      "id": "7d0e27f9-1494-499e-9ecb-5803e48d133e",
      "metadata": {
        "id": "7d0e27f9-1494-499e-9ecb-5803e48d133e"
      },
      "outputs": [],
      "source": []
    },
    {
      "cell_type": "markdown",
      "id": "d6be820b-2b47-4387-a91a-a176a1035639",
      "metadata": {
        "id": "d6be820b-2b47-4387-a91a-a176a1035639"
      },
      "source": [
        "### Population data\n"
      ]
    },
    {
      "cell_type": "code",
      "execution_count": null,
      "id": "02aacdf7-b485-46cf-95d7-59652be28381",
      "metadata": {
        "id": "02aacdf7-b485-46cf-95d7-59652be28381"
      },
      "outputs": [],
      "source": [
        "# read data from files\n",
        "nga_adm0_2020_df_raw = pd.read_csv('https://data.humdata.org/dataset/a7c3de5e-ff27-4746-99cd-05f2ad9b1066/resource/4710c51c-813b-481f-bb4e-ffb593e6f126/download/nga_admpop_adm0_2020.csv')\n",
        "nga_adm1_2020_df_raw = pd.read_csv('https://data.humdata.org/dataset/a7c3de5e-ff27-4746-99cd-05f2ad9b1066/resource/d9fc551a-b5e4-4bed-9d0d-b047b6961817/download/nga_admpop_adm1_2020.csv')\n",
        "nga_adm2_2020_df_raw = pd.read_csv('https://data.humdata.org/dataset/a7c3de5e-ff27-4746-99cd-05f2ad9b1066/resource/562e7757-0683-4d61-87bd-a7c94af2ee38/download/nga_admpop_adm2_2020.csv')\n"
      ]
    },
    {
      "cell_type": "markdown",
      "id": "757bf380-6d7e-47cd-8d7f-0021d7534c27",
      "metadata": {
        "id": "757bf380-6d7e-47cd-8d7f-0021d7534c27"
      },
      "source": [
        "#### WHOLE COUNTRY\n"
      ]
    },
    {
      "cell_type": "code",
      "execution_count": null,
      "id": "259ba6d2-e8f6-46d0-b088-4f0f1caa54cf",
      "metadata": {
        "id": "259ba6d2-e8f6-46d0-b088-4f0f1caa54cf",
        "outputId": "0407dd35-7ac2-42c5-c049-b99aa1609e67",
        "colab": {
          "base_uri": "https://localhost:8080/",
          "height": 110
        }
      },
      "outputs": [
        {
          "output_type": "execute_result",
          "data": {
            "text/plain": [
              "  ADM0_NAME ADM0_PCODE       F_TL       M_TL       T_TL   F_00_04   F_05_09  \\\n",
              "0   NIGERIA         NG  100473260  104435960  204909220  15713253  13740497   \n",
              "\n",
              "    F_10_14   F_15_19  F_20_24  ...   T_35_39  T_40_44  T_45_49  T_50_54  \\\n",
              "0  12305947  10974474  9109497  ...  11462880  9544981  7514275  5941812   \n",
              "\n",
              "   T_55_59  T_60_64  T_65_69  T_70_74  T_75_79  T_80Plus  \n",
              "0  4697628  3586657  2691997  1907879  1142924    752680  \n",
              "\n",
              "[1 rows x 56 columns]"
            ],
            "text/html": [
              "\n",
              "  <div id=\"df-448113b4-788e-4726-80af-7b5ad6d6a4a4\">\n",
              "    <div class=\"colab-df-container\">\n",
              "      <div>\n",
              "<style scoped>\n",
              "    .dataframe tbody tr th:only-of-type {\n",
              "        vertical-align: middle;\n",
              "    }\n",
              "\n",
              "    .dataframe tbody tr th {\n",
              "        vertical-align: top;\n",
              "    }\n",
              "\n",
              "    .dataframe thead th {\n",
              "        text-align: right;\n",
              "    }\n",
              "</style>\n",
              "<table border=\"1\" class=\"dataframe\">\n",
              "  <thead>\n",
              "    <tr style=\"text-align: right;\">\n",
              "      <th></th>\n",
              "      <th>ADM0_NAME</th>\n",
              "      <th>ADM0_PCODE</th>\n",
              "      <th>F_TL</th>\n",
              "      <th>M_TL</th>\n",
              "      <th>T_TL</th>\n",
              "      <th>F_00_04</th>\n",
              "      <th>F_05_09</th>\n",
              "      <th>F_10_14</th>\n",
              "      <th>F_15_19</th>\n",
              "      <th>F_20_24</th>\n",
              "      <th>...</th>\n",
              "      <th>T_35_39</th>\n",
              "      <th>T_40_44</th>\n",
              "      <th>T_45_49</th>\n",
              "      <th>T_50_54</th>\n",
              "      <th>T_55_59</th>\n",
              "      <th>T_60_64</th>\n",
              "      <th>T_65_69</th>\n",
              "      <th>T_70_74</th>\n",
              "      <th>T_75_79</th>\n",
              "      <th>T_80Plus</th>\n",
              "    </tr>\n",
              "  </thead>\n",
              "  <tbody>\n",
              "    <tr>\n",
              "      <th>0</th>\n",
              "      <td>NIGERIA</td>\n",
              "      <td>NG</td>\n",
              "      <td>100473260</td>\n",
              "      <td>104435960</td>\n",
              "      <td>204909220</td>\n",
              "      <td>15713253</td>\n",
              "      <td>13740497</td>\n",
              "      <td>12305947</td>\n",
              "      <td>10974474</td>\n",
              "      <td>9109497</td>\n",
              "      <td>...</td>\n",
              "      <td>11462880</td>\n",
              "      <td>9544981</td>\n",
              "      <td>7514275</td>\n",
              "      <td>5941812</td>\n",
              "      <td>4697628</td>\n",
              "      <td>3586657</td>\n",
              "      <td>2691997</td>\n",
              "      <td>1907879</td>\n",
              "      <td>1142924</td>\n",
              "      <td>752680</td>\n",
              "    </tr>\n",
              "  </tbody>\n",
              "</table>\n",
              "<p>1 rows × 56 columns</p>\n",
              "</div>\n",
              "      <button class=\"colab-df-convert\" onclick=\"convertToInteractive('df-448113b4-788e-4726-80af-7b5ad6d6a4a4')\"\n",
              "              title=\"Convert this dataframe to an interactive table.\"\n",
              "              style=\"display:none;\">\n",
              "        \n",
              "  <svg xmlns=\"http://www.w3.org/2000/svg\" height=\"24px\"viewBox=\"0 0 24 24\"\n",
              "       width=\"24px\">\n",
              "    <path d=\"M0 0h24v24H0V0z\" fill=\"none\"/>\n",
              "    <path d=\"M18.56 5.44l.94 2.06.94-2.06 2.06-.94-2.06-.94-.94-2.06-.94 2.06-2.06.94zm-11 1L8.5 8.5l.94-2.06 2.06-.94-2.06-.94L8.5 2.5l-.94 2.06-2.06.94zm10 10l.94 2.06.94-2.06 2.06-.94-2.06-.94-.94-2.06-.94 2.06-2.06.94z\"/><path d=\"M17.41 7.96l-1.37-1.37c-.4-.4-.92-.59-1.43-.59-.52 0-1.04.2-1.43.59L10.3 9.45l-7.72 7.72c-.78.78-.78 2.05 0 2.83L4 21.41c.39.39.9.59 1.41.59.51 0 1.02-.2 1.41-.59l7.78-7.78 2.81-2.81c.8-.78.8-2.07 0-2.86zM5.41 20L4 18.59l7.72-7.72 1.47 1.35L5.41 20z\"/>\n",
              "  </svg>\n",
              "      </button>\n",
              "      \n",
              "  <style>\n",
              "    .colab-df-container {\n",
              "      display:flex;\n",
              "      flex-wrap:wrap;\n",
              "      gap: 12px;\n",
              "    }\n",
              "\n",
              "    .colab-df-convert {\n",
              "      background-color: #E8F0FE;\n",
              "      border: none;\n",
              "      border-radius: 50%;\n",
              "      cursor: pointer;\n",
              "      display: none;\n",
              "      fill: #1967D2;\n",
              "      height: 32px;\n",
              "      padding: 0 0 0 0;\n",
              "      width: 32px;\n",
              "    }\n",
              "\n",
              "    .colab-df-convert:hover {\n",
              "      background-color: #E2EBFA;\n",
              "      box-shadow: 0px 1px 2px rgba(60, 64, 67, 0.3), 0px 1px 3px 1px rgba(60, 64, 67, 0.15);\n",
              "      fill: #174EA6;\n",
              "    }\n",
              "\n",
              "    [theme=dark] .colab-df-convert {\n",
              "      background-color: #3B4455;\n",
              "      fill: #D2E3FC;\n",
              "    }\n",
              "\n",
              "    [theme=dark] .colab-df-convert:hover {\n",
              "      background-color: #434B5C;\n",
              "      box-shadow: 0px 1px 3px 1px rgba(0, 0, 0, 0.15);\n",
              "      filter: drop-shadow(0px 1px 2px rgba(0, 0, 0, 0.3));\n",
              "      fill: #FFFFFF;\n",
              "    }\n",
              "  </style>\n",
              "\n",
              "      <script>\n",
              "        const buttonEl =\n",
              "          document.querySelector('#df-448113b4-788e-4726-80af-7b5ad6d6a4a4 button.colab-df-convert');\n",
              "        buttonEl.style.display =\n",
              "          google.colab.kernel.accessAllowed ? 'block' : 'none';\n",
              "\n",
              "        async function convertToInteractive(key) {\n",
              "          const element = document.querySelector('#df-448113b4-788e-4726-80af-7b5ad6d6a4a4');\n",
              "          const dataTable =\n",
              "            await google.colab.kernel.invokeFunction('convertToInteractive',\n",
              "                                                     [key], {});\n",
              "          if (!dataTable) return;\n",
              "\n",
              "          const docLinkHtml = 'Like what you see? Visit the ' +\n",
              "            '<a target=\"_blank\" href=https://colab.research.google.com/notebooks/data_table.ipynb>data table notebook</a>'\n",
              "            + ' to learn more about interactive tables.';\n",
              "          element.innerHTML = '';\n",
              "          dataTable['output_type'] = 'display_data';\n",
              "          await google.colab.output.renderOutput(dataTable, element);\n",
              "          const docLink = document.createElement('div');\n",
              "          docLink.innerHTML = docLinkHtml;\n",
              "          element.appendChild(docLink);\n",
              "        }\n",
              "      </script>\n",
              "    </div>\n",
              "  </div>\n",
              "  "
            ]
          },
          "metadata": {},
          "execution_count": 60
        }
      ],
      "source": [
        "nga_adm0_2020_df_raw"
      ]
    },
    {
      "cell_type": "markdown",
      "id": "76973b08-83b9-473c-990e-6a12ecf2a3d0",
      "metadata": {
        "id": "76973b08-83b9-473c-990e-6a12ecf2a3d0"
      },
      "source": [
        "#### ADMIN LEVEL 1"
      ]
    },
    {
      "cell_type": "code",
      "source": [
        "nga_adm1_2020_df_raw.ADM1_NAME.unique()"
      ],
      "metadata": {
        "colab": {
          "base_uri": "https://localhost:8080/"
        },
        "id": "-lnf-fTTkh3_",
        "outputId": "24e7d4f9-1ece-4201-9146-f3c8697d2827"
      },
      "id": "-lnf-fTTkh3_",
      "execution_count": null,
      "outputs": [
        {
          "output_type": "execute_result",
          "data": {
            "text/plain": [
              "array(['ABIA', 'ADAMAWA', 'AKWA IBOM', 'ANAMBRA', 'BAUCHI', 'BAYELSA',\n",
              "       'BENUE', 'BORNO', 'CROSS RIVER', 'DELTA', 'EBONYI', 'EDO', 'EKITI',\n",
              "       'ENUGU', 'FEDERAL CAPITAL TERRITORY', 'GOMBE', 'IMO', 'JIGAWA',\n",
              "       'KADUNA', 'KANO', 'KATSINA', 'KEBBI', 'KOGI', 'KWARA', 'LAGOS',\n",
              "       'NASARAWA', 'NIGER', 'OGUN', 'ONDO', 'OSUN', 'OYO', 'PLATEAU',\n",
              "       'RIVERS', 'SOKOTO', 'TARABA', 'YOBE', 'ZAMFARA'], dtype=object)"
            ]
          },
          "metadata": {},
          "execution_count": 61
        }
      ]
    },
    {
      "cell_type": "code",
      "execution_count": null,
      "id": "3e412d59-3fde-4db0-a512-6c32c9d25c8a",
      "metadata": {
        "id": "3e412d59-3fde-4db0-a512-6c32c9d25c8a",
        "outputId": "8be6405e-b062-44ae-fea2-1d07cf629399",
        "colab": {
          "base_uri": "https://localhost:8080/",
          "height": 236
        }
      },
      "outputs": [
        {
          "output_type": "execute_result",
          "data": {
            "text/plain": [
              "  ADM0_NAME ADM0_PCODE  ADM1_NAME ADM1_PCODE     F_TL     M_TL     T_TL  \\\n",
              "0   NIGERIA         NG       ABIA      NG001  1937239  1941738  3878977   \n",
              "1   NIGERIA         NG    ADAMAWA      NG002  2168252  2228347  4396599   \n",
              "2   NIGERIA         NG  AKWA IBOM      NG003  2789212  2876552  5665764   \n",
              "3   NIGERIA         NG    ANAMBRA      NG004  2932876  3003908  5936784   \n",
              "4   NIGERIA         NG     BAUCHI      NG005  3272516  3417618  6690134   \n",
              "\n",
              "   F_00_04  F_05_09  F_10_14  ...  T_35_39  T_40_44  T_45_49  T_50_54  \\\n",
              "0   210483   215867   248705  ...   222947   194133   175852   134694   \n",
              "1   372760   320576   273011  ...   225579   188995   143381   116482   \n",
              "2   326260   342223   353787  ...   340402   288166   256081   190410   \n",
              "3   319470   334304   379733  ...   350214   302323   270660   201279   \n",
              "4   639299   509011   402259  ...   322124   276823   193548   172873   \n",
              "\n",
              "   T_55_59  T_60_64  T_65_69  T_70_74  T_75_79  T_80Plus  \n",
              "0   126513    84071    78976    48921    35513     19470  \n",
              "1    94120    72897    58057    46415    27654     17161  \n",
              "2   160830   125151    98786    53539    32155     15171  \n",
              "3   185087   122166   110187    64398    48022     23577  \n",
              "4   109191   101830    60952    58276    31020     23856  \n",
              "\n",
              "[5 rows x 58 columns]"
            ],
            "text/html": [
              "\n",
              "  <div id=\"df-f8049281-3801-4cbb-a60f-43176ca16ad0\">\n",
              "    <div class=\"colab-df-container\">\n",
              "      <div>\n",
              "<style scoped>\n",
              "    .dataframe tbody tr th:only-of-type {\n",
              "        vertical-align: middle;\n",
              "    }\n",
              "\n",
              "    .dataframe tbody tr th {\n",
              "        vertical-align: top;\n",
              "    }\n",
              "\n",
              "    .dataframe thead th {\n",
              "        text-align: right;\n",
              "    }\n",
              "</style>\n",
              "<table border=\"1\" class=\"dataframe\">\n",
              "  <thead>\n",
              "    <tr style=\"text-align: right;\">\n",
              "      <th></th>\n",
              "      <th>ADM0_NAME</th>\n",
              "      <th>ADM0_PCODE</th>\n",
              "      <th>ADM1_NAME</th>\n",
              "      <th>ADM1_PCODE</th>\n",
              "      <th>F_TL</th>\n",
              "      <th>M_TL</th>\n",
              "      <th>T_TL</th>\n",
              "      <th>F_00_04</th>\n",
              "      <th>F_05_09</th>\n",
              "      <th>F_10_14</th>\n",
              "      <th>...</th>\n",
              "      <th>T_35_39</th>\n",
              "      <th>T_40_44</th>\n",
              "      <th>T_45_49</th>\n",
              "      <th>T_50_54</th>\n",
              "      <th>T_55_59</th>\n",
              "      <th>T_60_64</th>\n",
              "      <th>T_65_69</th>\n",
              "      <th>T_70_74</th>\n",
              "      <th>T_75_79</th>\n",
              "      <th>T_80Plus</th>\n",
              "    </tr>\n",
              "  </thead>\n",
              "  <tbody>\n",
              "    <tr>\n",
              "      <th>0</th>\n",
              "      <td>NIGERIA</td>\n",
              "      <td>NG</td>\n",
              "      <td>ABIA</td>\n",
              "      <td>NG001</td>\n",
              "      <td>1937239</td>\n",
              "      <td>1941738</td>\n",
              "      <td>3878977</td>\n",
              "      <td>210483</td>\n",
              "      <td>215867</td>\n",
              "      <td>248705</td>\n",
              "      <td>...</td>\n",
              "      <td>222947</td>\n",
              "      <td>194133</td>\n",
              "      <td>175852</td>\n",
              "      <td>134694</td>\n",
              "      <td>126513</td>\n",
              "      <td>84071</td>\n",
              "      <td>78976</td>\n",
              "      <td>48921</td>\n",
              "      <td>35513</td>\n",
              "      <td>19470</td>\n",
              "    </tr>\n",
              "    <tr>\n",
              "      <th>1</th>\n",
              "      <td>NIGERIA</td>\n",
              "      <td>NG</td>\n",
              "      <td>ADAMAWA</td>\n",
              "      <td>NG002</td>\n",
              "      <td>2168252</td>\n",
              "      <td>2228347</td>\n",
              "      <td>4396599</td>\n",
              "      <td>372760</td>\n",
              "      <td>320576</td>\n",
              "      <td>273011</td>\n",
              "      <td>...</td>\n",
              "      <td>225579</td>\n",
              "      <td>188995</td>\n",
              "      <td>143381</td>\n",
              "      <td>116482</td>\n",
              "      <td>94120</td>\n",
              "      <td>72897</td>\n",
              "      <td>58057</td>\n",
              "      <td>46415</td>\n",
              "      <td>27654</td>\n",
              "      <td>17161</td>\n",
              "    </tr>\n",
              "    <tr>\n",
              "      <th>2</th>\n",
              "      <td>NIGERIA</td>\n",
              "      <td>NG</td>\n",
              "      <td>AKWA IBOM</td>\n",
              "      <td>NG003</td>\n",
              "      <td>2789212</td>\n",
              "      <td>2876552</td>\n",
              "      <td>5665764</td>\n",
              "      <td>326260</td>\n",
              "      <td>342223</td>\n",
              "      <td>353787</td>\n",
              "      <td>...</td>\n",
              "      <td>340402</td>\n",
              "      <td>288166</td>\n",
              "      <td>256081</td>\n",
              "      <td>190410</td>\n",
              "      <td>160830</td>\n",
              "      <td>125151</td>\n",
              "      <td>98786</td>\n",
              "      <td>53539</td>\n",
              "      <td>32155</td>\n",
              "      <td>15171</td>\n",
              "    </tr>\n",
              "    <tr>\n",
              "      <th>3</th>\n",
              "      <td>NIGERIA</td>\n",
              "      <td>NG</td>\n",
              "      <td>ANAMBRA</td>\n",
              "      <td>NG004</td>\n",
              "      <td>2932876</td>\n",
              "      <td>3003908</td>\n",
              "      <td>5936784</td>\n",
              "      <td>319470</td>\n",
              "      <td>334304</td>\n",
              "      <td>379733</td>\n",
              "      <td>...</td>\n",
              "      <td>350214</td>\n",
              "      <td>302323</td>\n",
              "      <td>270660</td>\n",
              "      <td>201279</td>\n",
              "      <td>185087</td>\n",
              "      <td>122166</td>\n",
              "      <td>110187</td>\n",
              "      <td>64398</td>\n",
              "      <td>48022</td>\n",
              "      <td>23577</td>\n",
              "    </tr>\n",
              "    <tr>\n",
              "      <th>4</th>\n",
              "      <td>NIGERIA</td>\n",
              "      <td>NG</td>\n",
              "      <td>BAUCHI</td>\n",
              "      <td>NG005</td>\n",
              "      <td>3272516</td>\n",
              "      <td>3417618</td>\n",
              "      <td>6690134</td>\n",
              "      <td>639299</td>\n",
              "      <td>509011</td>\n",
              "      <td>402259</td>\n",
              "      <td>...</td>\n",
              "      <td>322124</td>\n",
              "      <td>276823</td>\n",
              "      <td>193548</td>\n",
              "      <td>172873</td>\n",
              "      <td>109191</td>\n",
              "      <td>101830</td>\n",
              "      <td>60952</td>\n",
              "      <td>58276</td>\n",
              "      <td>31020</td>\n",
              "      <td>23856</td>\n",
              "    </tr>\n",
              "  </tbody>\n",
              "</table>\n",
              "<p>5 rows × 58 columns</p>\n",
              "</div>\n",
              "      <button class=\"colab-df-convert\" onclick=\"convertToInteractive('df-f8049281-3801-4cbb-a60f-43176ca16ad0')\"\n",
              "              title=\"Convert this dataframe to an interactive table.\"\n",
              "              style=\"display:none;\">\n",
              "        \n",
              "  <svg xmlns=\"http://www.w3.org/2000/svg\" height=\"24px\"viewBox=\"0 0 24 24\"\n",
              "       width=\"24px\">\n",
              "    <path d=\"M0 0h24v24H0V0z\" fill=\"none\"/>\n",
              "    <path d=\"M18.56 5.44l.94 2.06.94-2.06 2.06-.94-2.06-.94-.94-2.06-.94 2.06-2.06.94zm-11 1L8.5 8.5l.94-2.06 2.06-.94-2.06-.94L8.5 2.5l-.94 2.06-2.06.94zm10 10l.94 2.06.94-2.06 2.06-.94-2.06-.94-.94-2.06-.94 2.06-2.06.94z\"/><path d=\"M17.41 7.96l-1.37-1.37c-.4-.4-.92-.59-1.43-.59-.52 0-1.04.2-1.43.59L10.3 9.45l-7.72 7.72c-.78.78-.78 2.05 0 2.83L4 21.41c.39.39.9.59 1.41.59.51 0 1.02-.2 1.41-.59l7.78-7.78 2.81-2.81c.8-.78.8-2.07 0-2.86zM5.41 20L4 18.59l7.72-7.72 1.47 1.35L5.41 20z\"/>\n",
              "  </svg>\n",
              "      </button>\n",
              "      \n",
              "  <style>\n",
              "    .colab-df-container {\n",
              "      display:flex;\n",
              "      flex-wrap:wrap;\n",
              "      gap: 12px;\n",
              "    }\n",
              "\n",
              "    .colab-df-convert {\n",
              "      background-color: #E8F0FE;\n",
              "      border: none;\n",
              "      border-radius: 50%;\n",
              "      cursor: pointer;\n",
              "      display: none;\n",
              "      fill: #1967D2;\n",
              "      height: 32px;\n",
              "      padding: 0 0 0 0;\n",
              "      width: 32px;\n",
              "    }\n",
              "\n",
              "    .colab-df-convert:hover {\n",
              "      background-color: #E2EBFA;\n",
              "      box-shadow: 0px 1px 2px rgba(60, 64, 67, 0.3), 0px 1px 3px 1px rgba(60, 64, 67, 0.15);\n",
              "      fill: #174EA6;\n",
              "    }\n",
              "\n",
              "    [theme=dark] .colab-df-convert {\n",
              "      background-color: #3B4455;\n",
              "      fill: #D2E3FC;\n",
              "    }\n",
              "\n",
              "    [theme=dark] .colab-df-convert:hover {\n",
              "      background-color: #434B5C;\n",
              "      box-shadow: 0px 1px 3px 1px rgba(0, 0, 0, 0.15);\n",
              "      filter: drop-shadow(0px 1px 2px rgba(0, 0, 0, 0.3));\n",
              "      fill: #FFFFFF;\n",
              "    }\n",
              "  </style>\n",
              "\n",
              "      <script>\n",
              "        const buttonEl =\n",
              "          document.querySelector('#df-f8049281-3801-4cbb-a60f-43176ca16ad0 button.colab-df-convert');\n",
              "        buttonEl.style.display =\n",
              "          google.colab.kernel.accessAllowed ? 'block' : 'none';\n",
              "\n",
              "        async function convertToInteractive(key) {\n",
              "          const element = document.querySelector('#df-f8049281-3801-4cbb-a60f-43176ca16ad0');\n",
              "          const dataTable =\n",
              "            await google.colab.kernel.invokeFunction('convertToInteractive',\n",
              "                                                     [key], {});\n",
              "          if (!dataTable) return;\n",
              "\n",
              "          const docLinkHtml = 'Like what you see? Visit the ' +\n",
              "            '<a target=\"_blank\" href=https://colab.research.google.com/notebooks/data_table.ipynb>data table notebook</a>'\n",
              "            + ' to learn more about interactive tables.';\n",
              "          element.innerHTML = '';\n",
              "          dataTable['output_type'] = 'display_data';\n",
              "          await google.colab.output.renderOutput(dataTable, element);\n",
              "          const docLink = document.createElement('div');\n",
              "          docLink.innerHTML = docLinkHtml;\n",
              "          element.appendChild(docLink);\n",
              "        }\n",
              "      </script>\n",
              "    </div>\n",
              "  </div>\n",
              "  "
            ]
          },
          "metadata": {},
          "execution_count": 62
        }
      ],
      "source": [
        "\n",
        "# Nigeria administrative level 1 (state) 2016 projected population statistics\n",
        "nga_adm1_2020_df_raw.head()"
      ]
    },
    {
      "cell_type": "code",
      "source": [
        "nga_adm1_2020_df_raw.rename(columns={'ADM0_NAME':'Country', 'ADM1_NAME':'State', 'T_TL':'Total_Population'}, inplace=True)"
      ],
      "metadata": {
        "id": "HDBDSh-xoNJ6"
      },
      "id": "HDBDSh-xoNJ6",
      "execution_count": null,
      "outputs": []
    },
    {
      "cell_type": "code",
      "source": [
        "nga_adm1_test = nga_adm1_2020_df_raw[nga_adm1_2020_df_raw['Country', 'State', 'Total_Population']]\n",
        "nga_amd1_test.head()"
      ],
      "metadata": {
        "colab": {
          "base_uri": "https://localhost:8080/",
          "height": 515
        },
        "id": "cpHnDJTBmaYt",
        "outputId": "bccd1d1e-5e6b-4259-e523-5c35e817acd3"
      },
      "id": "cpHnDJTBmaYt",
      "execution_count": null,
      "outputs": [
        {
          "output_type": "error",
          "ename": "KeyError",
          "evalue": "ignored",
          "traceback": [
            "\u001b[0;31m---------------------------------------------------------------------------\u001b[0m",
            "\u001b[0;31mKeyError\u001b[0m                                  Traceback (most recent call last)",
            "\u001b[0;32m/usr/local/lib/python3.8/dist-packages/pandas/core/indexes/base.py\u001b[0m in \u001b[0;36mget_loc\u001b[0;34m(self, key, method, tolerance)\u001b[0m\n\u001b[1;32m   3360\u001b[0m             \u001b[0;32mtry\u001b[0m\u001b[0;34m:\u001b[0m\u001b[0;34m\u001b[0m\u001b[0;34m\u001b[0m\u001b[0m\n\u001b[0;32m-> 3361\u001b[0;31m                 \u001b[0;32mreturn\u001b[0m \u001b[0mself\u001b[0m\u001b[0;34m.\u001b[0m\u001b[0m_engine\u001b[0m\u001b[0;34m.\u001b[0m\u001b[0mget_loc\u001b[0m\u001b[0;34m(\u001b[0m\u001b[0mcasted_key\u001b[0m\u001b[0;34m)\u001b[0m\u001b[0;34m\u001b[0m\u001b[0;34m\u001b[0m\u001b[0m\n\u001b[0m\u001b[1;32m   3362\u001b[0m             \u001b[0;32mexcept\u001b[0m \u001b[0mKeyError\u001b[0m \u001b[0;32mas\u001b[0m \u001b[0merr\u001b[0m\u001b[0;34m:\u001b[0m\u001b[0;34m\u001b[0m\u001b[0;34m\u001b[0m\u001b[0m\n",
            "\u001b[0;32m/usr/local/lib/python3.8/dist-packages/pandas/_libs/index.pyx\u001b[0m in \u001b[0;36mpandas._libs.index.IndexEngine.get_loc\u001b[0;34m()\u001b[0m\n",
            "\u001b[0;32m/usr/local/lib/python3.8/dist-packages/pandas/_libs/index.pyx\u001b[0m in \u001b[0;36mpandas._libs.index.IndexEngine.get_loc\u001b[0;34m()\u001b[0m\n",
            "\u001b[0;32mpandas/_libs/hashtable_class_helper.pxi\u001b[0m in \u001b[0;36mpandas._libs.hashtable.PyObjectHashTable.get_item\u001b[0;34m()\u001b[0m\n",
            "\u001b[0;32mpandas/_libs/hashtable_class_helper.pxi\u001b[0m in \u001b[0;36mpandas._libs.hashtable.PyObjectHashTable.get_item\u001b[0;34m()\u001b[0m\n",
            "\u001b[0;31mKeyError\u001b[0m: ('Country', 'State', 'Total_Population')",
            "\nThe above exception was the direct cause of the following exception:\n",
            "\u001b[0;31mKeyError\u001b[0m                                  Traceback (most recent call last)",
            "\u001b[0;32m<ipython-input-64-9a49a934069d>\u001b[0m in \u001b[0;36m<module>\u001b[0;34m\u001b[0m\n\u001b[0;32m----> 1\u001b[0;31m \u001b[0mnga_adm1_test\u001b[0m \u001b[0;34m=\u001b[0m \u001b[0mnga_adm1_2020_df_raw\u001b[0m\u001b[0;34m[\u001b[0m\u001b[0mnga_adm1_2020_df_raw\u001b[0m\u001b[0;34m[\u001b[0m\u001b[0;34m'Country'\u001b[0m\u001b[0;34m,\u001b[0m \u001b[0;34m'State'\u001b[0m\u001b[0;34m,\u001b[0m \u001b[0;34m'Total_Population'\u001b[0m\u001b[0;34m]\u001b[0m\u001b[0;34m]\u001b[0m\u001b[0;34m\u001b[0m\u001b[0;34m\u001b[0m\u001b[0m\n\u001b[0m\u001b[1;32m      2\u001b[0m \u001b[0mnga_amd1_test\u001b[0m\u001b[0;34m.\u001b[0m\u001b[0mhead\u001b[0m\u001b[0;34m(\u001b[0m\u001b[0;34m)\u001b[0m\u001b[0;34m\u001b[0m\u001b[0;34m\u001b[0m\u001b[0m\n",
            "\u001b[0;32m/usr/local/lib/python3.8/dist-packages/pandas/core/frame.py\u001b[0m in \u001b[0;36m__getitem__\u001b[0;34m(self, key)\u001b[0m\n\u001b[1;32m   3456\u001b[0m             \u001b[0;32mif\u001b[0m \u001b[0mself\u001b[0m\u001b[0;34m.\u001b[0m\u001b[0mcolumns\u001b[0m\u001b[0;34m.\u001b[0m\u001b[0mnlevels\u001b[0m \u001b[0;34m>\u001b[0m \u001b[0;36m1\u001b[0m\u001b[0;34m:\u001b[0m\u001b[0;34m\u001b[0m\u001b[0;34m\u001b[0m\u001b[0m\n\u001b[1;32m   3457\u001b[0m                 \u001b[0;32mreturn\u001b[0m \u001b[0mself\u001b[0m\u001b[0;34m.\u001b[0m\u001b[0m_getitem_multilevel\u001b[0m\u001b[0;34m(\u001b[0m\u001b[0mkey\u001b[0m\u001b[0;34m)\u001b[0m\u001b[0;34m\u001b[0m\u001b[0;34m\u001b[0m\u001b[0m\n\u001b[0;32m-> 3458\u001b[0;31m             \u001b[0mindexer\u001b[0m \u001b[0;34m=\u001b[0m \u001b[0mself\u001b[0m\u001b[0;34m.\u001b[0m\u001b[0mcolumns\u001b[0m\u001b[0;34m.\u001b[0m\u001b[0mget_loc\u001b[0m\u001b[0;34m(\u001b[0m\u001b[0mkey\u001b[0m\u001b[0;34m)\u001b[0m\u001b[0;34m\u001b[0m\u001b[0;34m\u001b[0m\u001b[0m\n\u001b[0m\u001b[1;32m   3459\u001b[0m             \u001b[0;32mif\u001b[0m \u001b[0mis_integer\u001b[0m\u001b[0;34m(\u001b[0m\u001b[0mindexer\u001b[0m\u001b[0;34m)\u001b[0m\u001b[0;34m:\u001b[0m\u001b[0;34m\u001b[0m\u001b[0;34m\u001b[0m\u001b[0m\n\u001b[1;32m   3460\u001b[0m                 \u001b[0mindexer\u001b[0m \u001b[0;34m=\u001b[0m \u001b[0;34m[\u001b[0m\u001b[0mindexer\u001b[0m\u001b[0;34m]\u001b[0m\u001b[0;34m\u001b[0m\u001b[0;34m\u001b[0m\u001b[0m\n",
            "\u001b[0;32m/usr/local/lib/python3.8/dist-packages/pandas/core/indexes/base.py\u001b[0m in \u001b[0;36mget_loc\u001b[0;34m(self, key, method, tolerance)\u001b[0m\n\u001b[1;32m   3361\u001b[0m                 \u001b[0;32mreturn\u001b[0m \u001b[0mself\u001b[0m\u001b[0;34m.\u001b[0m\u001b[0m_engine\u001b[0m\u001b[0;34m.\u001b[0m\u001b[0mget_loc\u001b[0m\u001b[0;34m(\u001b[0m\u001b[0mcasted_key\u001b[0m\u001b[0;34m)\u001b[0m\u001b[0;34m\u001b[0m\u001b[0;34m\u001b[0m\u001b[0m\n\u001b[1;32m   3362\u001b[0m             \u001b[0;32mexcept\u001b[0m \u001b[0mKeyError\u001b[0m \u001b[0;32mas\u001b[0m \u001b[0merr\u001b[0m\u001b[0;34m:\u001b[0m\u001b[0;34m\u001b[0m\u001b[0;34m\u001b[0m\u001b[0m\n\u001b[0;32m-> 3363\u001b[0;31m                 \u001b[0;32mraise\u001b[0m \u001b[0mKeyError\u001b[0m\u001b[0;34m(\u001b[0m\u001b[0mkey\u001b[0m\u001b[0;34m)\u001b[0m \u001b[0;32mfrom\u001b[0m \u001b[0merr\u001b[0m\u001b[0;34m\u001b[0m\u001b[0;34m\u001b[0m\u001b[0m\n\u001b[0m\u001b[1;32m   3364\u001b[0m \u001b[0;34m\u001b[0m\u001b[0m\n\u001b[1;32m   3365\u001b[0m         \u001b[0;32mif\u001b[0m \u001b[0mis_scalar\u001b[0m\u001b[0;34m(\u001b[0m\u001b[0mkey\u001b[0m\u001b[0;34m)\u001b[0m \u001b[0;32mand\u001b[0m \u001b[0misna\u001b[0m\u001b[0;34m(\u001b[0m\u001b[0mkey\u001b[0m\u001b[0;34m)\u001b[0m \u001b[0;32mand\u001b[0m \u001b[0;32mnot\u001b[0m \u001b[0mself\u001b[0m\u001b[0;34m.\u001b[0m\u001b[0mhasnans\u001b[0m\u001b[0;34m:\u001b[0m\u001b[0;34m\u001b[0m\u001b[0;34m\u001b[0m\u001b[0m\n",
            "\u001b[0;31mKeyError\u001b[0m: ('Country', 'State', 'Total_Population')"
          ]
        }
      ]
    },
    {
      "cell_type": "markdown",
      "id": "f9b301da-ebec-4e69-a31f-8e9e4d2e054e",
      "metadata": {
        "id": "f9b301da-ebec-4e69-a31f-8e9e4d2e054e"
      },
      "source": [
        "#### ADMIN LEVEL 2"
      ]
    },
    {
      "cell_type": "code",
      "execution_count": null,
      "id": "b648fb50-b9f0-4767-90e0-99512cbb969f",
      "metadata": {
        "id": "b648fb50-b9f0-4767-90e0-99512cbb969f"
      },
      "outputs": [],
      "source": [
        "# Nigeria administrative level 2 (local government area) 2016 projected population statistics\n",
        "nga_adm2_2020_df_raw.head(3)"
      ]
    },
    {
      "cell_type": "code",
      "execution_count": null,
      "id": "53d5bb68-3b9c-4d6e-817b-ebbd8ba853b5",
      "metadata": {
        "id": "53d5bb68-3b9c-4d6e-817b-ebbd8ba853b5"
      },
      "outputs": [],
      "source": [
        "# remove extraneous columns\n",
        "unnamed = nga_adm2_2020_df_raw.filter(regex='Unnamed').columns\n",
        "admcols = nga_adm2_2020_df_raw.filter(regex='ADM').columns\n",
        "nga_adm2_2020 = nga_adm2_2020_df_raw.drop(columns = unnamed)"
      ]
    },
    {
      "cell_type": "code",
      "execution_count": null,
      "id": "3410d8ff-4338-4c75-8c14-e5e39cd10808",
      "metadata": {
        "id": "3410d8ff-4338-4c75-8c14-e5e39cd10808"
      },
      "outputs": [],
      "source": [
        "# melt to make long\n",
        "nga_adm2_2020_long = pd.melt(nga_adm2_2020,\n",
        "        var_name = 'sex_age_cat',\n",
        "        value_name = 'population',\n",
        "        id_vars = admcols) "
      ]
    },
    {
      "cell_type": "code",
      "execution_count": null,
      "id": "39d0a93c-bcca-4cc4-bc9a-801908fd8a2c",
      "metadata": {
        "id": "39d0a93c-bcca-4cc4-bc9a-801908fd8a2c"
      },
      "outputs": [],
      "source": [
        "nga_adm2_2020_long"
      ]
    },
    {
      "cell_type": "code",
      "execution_count": null,
      "id": "df2382c2-8c33-44fc-8222-f65e765189c1",
      "metadata": {
        "id": "df2382c2-8c33-44fc-8222-f65e765189c1"
      },
      "outputs": [],
      "source": [
        "# !ls -l\n",
        "! cd geodb\n",
        "! ls -l\n"
      ]
    },
    {
      "cell_type": "code",
      "source": [
        "!ls -l"
      ],
      "metadata": {
        "id": "X6e_8Z85jjCg"
      },
      "id": "X6e_8Z85jjCg",
      "execution_count": null,
      "outputs": []
    },
    {
      "cell_type": "code",
      "execution_count": null,
      "id": "81cf20c0-10b3-4166-af8e-fe6a6a0dd54c",
      "metadata": {
        "id": "81cf20c0-10b3-4166-af8e-fe6a6a0dd54c"
      },
      "outputs": [],
      "source": []
    },
    {
      "cell_type": "markdown",
      "id": "feadb014-d254-4f12-bce8-4384b565992f",
      "metadata": {
        "id": "feadb014-d254-4f12-bce8-4384b565992f"
      },
      "source": [
        "### Boundary geodata from Geo database\n",
        "\n",
        "Geo data for Nigeria from ESRI Geo database  \n",
        "Read the GDB into a geopandas df   \n",
        "Looks like polygon boundaries for admin layers"
      ]
    },
    {
      "cell_type": "code",
      "execution_count": 44,
      "id": "dad49ae2-b223-4c72-8adb-e52e709dd56b",
      "metadata": {
        "id": "dad49ae2-b223-4c72-8adb-e52e709dd56b"
      },
      "outputs": [],
      "source": [
        "# Read data\n",
        "country_geodata = gpd.read_file('nga_admbnda_osgof_eha_itos.gdb', layer = 0) # country\n",
        "admin_1_geodata = gpd.read_file('nga_admbnda_osgof_eha_itos.gdb', layer = 1) # ADM1\n",
        "admin_2_geodata = gpd.read_file('nga_admbnda_osgof_eha_itos.gdb', layer = 2) # ADM2\n"
      ]
    },
    {
      "cell_type": "code",
      "execution_count": null,
      "id": "4c081a82-62fc-412c-94c2-2ab322c8bdbb",
      "metadata": {
        "id": "4c081a82-62fc-412c-94c2-2ab322c8bdbb"
      },
      "outputs": [],
      "source": [
        "country_geodata.head()"
      ]
    },
    {
      "cell_type": "code",
      "execution_count": null,
      "id": "17990a33-0274-47f9-8153-b2b6c0c8d450",
      "metadata": {
        "id": "17990a33-0274-47f9-8153-b2b6c0c8d450"
      },
      "outputs": [],
      "source": [
        "\n",
        "admin_1_geodata.head(2)"
      ]
    },
    {
      "cell_type": "code",
      "execution_count": null,
      "id": "8024c8d9-d175-4f31-b7e4-3cda6cc19bf2",
      "metadata": {
        "id": "8024c8d9-d175-4f31-b7e4-3cda6cc19bf2"
      },
      "outputs": [],
      "source": [
        "admin_2_geodata.head(2)"
      ]
    },
    {
      "cell_type": "code",
      "execution_count": null,
      "id": "f1332ed2-f326-4476-a76e-1e29b82a19b9",
      "metadata": {
        "id": "f1332ed2-f326-4476-a76e-1e29b82a19b9"
      },
      "outputs": [],
      "source": [
        "admin_1_geodata.plot(column = 'admin1Pcode', legend = False);"
      ]
    },
    {
      "cell_type": "code",
      "execution_count": null,
      "id": "5420375a-e7c0-4133-b80e-ab0dc1c46341",
      "metadata": {
        "id": "5420375a-e7c0-4133-b80e-ab0dc1c46341"
      },
      "outputs": [],
      "source": [
        "admin_2_geodata.plot(column = 'admin2Pcode');"
      ]
    },
    {
      "cell_type": "code",
      "execution_count": null,
      "id": "6631fde5-0cc1-47d0-b757-af2123dfd262",
      "metadata": {
        "id": "6631fde5-0cc1-47d0-b757-af2123dfd262"
      },
      "outputs": [],
      "source": []
    },
    {
      "cell_type": "code",
      "execution_count": null,
      "id": "673a9627-13ad-4788-8196-1c09dd5fbece",
      "metadata": {
        "id": "673a9627-13ad-4788-8196-1c09dd5fbece"
      },
      "outputs": [],
      "source": []
    },
    {
      "cell_type": "code",
      "execution_count": null,
      "id": "b7763101-2fbd-4f49-af63-327cc6569865",
      "metadata": {
        "id": "b7763101-2fbd-4f49-af63-327cc6569865"
      },
      "outputs": [],
      "source": []
    }
  ],
  "metadata": {
    "kernelspec": {
      "display_name": "Python 3 (ipykernel)",
      "language": "python",
      "name": "python3"
    },
    "language_info": {
      "codemirror_mode": {
        "name": "ipython",
        "version": 3
      },
      "file_extension": ".py",
      "mimetype": "text/x-python",
      "name": "python",
      "nbconvert_exporter": "python",
      "pygments_lexer": "ipython3",
      "version": "3.8.15"
    },
    "vscode": {
      "interpreter": {
        "hash": "b504e31a80e21eeae337c3308ca6f658b293f56fdbe54ba68bc39a6a64545abf"
      }
    },
    "colab": {
      "provenance": [],
      "include_colab_link": true
    }
  },
  "nbformat": 4,
  "nbformat_minor": 5
}